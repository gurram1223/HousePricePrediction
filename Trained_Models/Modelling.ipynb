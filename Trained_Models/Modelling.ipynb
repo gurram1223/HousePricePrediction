{
 "cells": [
  {
   "cell_type": "markdown",
   "metadata": {},
   "source": [
    "# Modelling"
   ]
  },
  {
   "cell_type": "code",
   "execution_count": 15,
   "metadata": {},
   "outputs": [],
   "source": [
    "import matplotlib.pyplot as plt\n",
    "import pandas as pd\n",
    "import numpy as np\n",
    "from sklearn.linear_model import LinearRegression,Lasso\n",
    "import xgboost as xgb\n",
    "from sklearn.ensemble import RandomForestRegressor\n",
    "from sklearn.tree import DecisionTreeRegressor\n",
    "from sklearn.svm import SVR\n",
    "from sklearn.metrics import mean_squared_error, r2_score\n",
    "from sklearn.pipeline import make_pipeline,Pipeline\n",
    "\n",
    "from sklearn.model_selection import GridSearchCV\n",
    "from sklearn.model_selection import RandomizedSearchCV\n",
    "import pickle\n",
    "from sklearn.preprocessing import MinMaxScaler\n",
    "import seaborn as sns\n",
    "from math import sqrt\n",
    "\n",
    "import warnings\n",
    "warnings.filterwarnings(\"ignore\")"
   ]
  },
  {
   "cell_type": "code",
   "execution_count": 16,
   "metadata": {},
   "outputs": [],
   "source": [
    "X_train=pd.read_csv('C:/Users/Administrator/ML/House Prices Advanced Regression Techniques/Storage/X_train_selected.csv')\n",
    "X_test=pd.read_csv('C:/Users/Administrator/ML/House Prices Advanced Regression Techniques/Storage/X_test_selected.csv')\n",
    "y_train=pd.read_csv('C:/Users/Administrator/ML/House Prices Advanced Regression Techniques/Storage/y_train_no_scale.csv',names = ['SalePrice'])\n",
    "y_test=pd.read_csv('C:/Users/Administrator/ML/House Prices Advanced Regression Techniques/Storage/y_test_no_scale.csv',names = ['SalePrice'])"
   ]
  },
  {
   "cell_type": "code",
   "execution_count": 17,
   "metadata": {},
   "outputs": [
    {
     "name": "stdout",
     "output_type": "stream",
     "text": [
      "(1314, 16)\n",
      "(146, 16)\n",
      "(1314,)\n",
      "(146,)\n"
     ]
    }
   ],
   "source": [
    "print(X_train.shape)\n",
    "print(X_test.shape)\n",
    "\n",
    "# to convert dataframe to series\n",
    "\n",
    "y_train = y_train.squeeze()\n",
    "y_test = y_test.squeeze()\n",
    "\n",
    "print(y_train.shape)\n",
    "print(y_test.shape)"
   ]
  },
  {
   "cell_type": "code",
   "execution_count": 18,
   "metadata": {},
   "outputs": [
    {
     "data": {
      "text/plain": [
       "Index(['TotalSF', 'TotalBsmtSF', 'OverallQual', 'GarageCars', 'BsmtFinSF1',\n",
       "       '1stFlrSF', 'YearRemodAdd', 'LotArea', 'KitchenQual', 'GrLivArea',\n",
       "       'GarageFinish', 'GarageArea', 'FullBath', 'ExterQual', 'BsmtQual',\n",
       "       '2ndFlrSF'],\n",
       "      dtype='object')"
      ]
     },
     "execution_count": 18,
     "metadata": {},
     "output_type": "execute_result"
    }
   ],
   "source": [
    "X_test.columns"
   ]
  },
  {
   "cell_type": "code",
   "execution_count": 39,
   "metadata": {},
   "outputs": [
    {
     "data": {
      "text/plain": [
       "TotalSF         float64\n",
       "TotalBsmtSF       int64\n",
       "OverallQual       int64\n",
       "GarageCars        int64\n",
       "BsmtFinSF1        int64\n",
       "1stFlrSF        float64\n",
       "YearRemodAdd      int64\n",
       "LotArea         float64\n",
       "KitchenQual       int64\n",
       "GrLivArea       float64\n",
       "GarageFinish      int64\n",
       "GarageArea        int64\n",
       "FullBath          int64\n",
       "ExterQual         int64\n",
       "BsmtQual          int64\n",
       "2ndFlrSF          int64\n",
       "dtype: object"
      ]
     },
     "execution_count": 39,
     "metadata": {},
     "output_type": "execute_result"
    }
   ],
   "source": [
    "X_train.dtypes"
   ]
  },
  {
   "cell_type": "code",
   "execution_count": 40,
   "metadata": {},
   "outputs": [
    {
     "data": {
      "text/plain": [
       "TotalSF         float64\n",
       "TotalBsmtSF       int64\n",
       "OverallQual       int64\n",
       "GarageCars        int64\n",
       "BsmtFinSF1        int64\n",
       "1stFlrSF        float64\n",
       "YearRemodAdd      int64\n",
       "LotArea         float64\n",
       "KitchenQual       int64\n",
       "GrLivArea       float64\n",
       "GarageFinish      int64\n",
       "GarageArea        int64\n",
       "FullBath          int64\n",
       "ExterQual         int64\n",
       "BsmtQual          int64\n",
       "2ndFlrSF          int64\n",
       "dtype: object"
      ]
     },
     "execution_count": 40,
     "metadata": {},
     "output_type": "execute_result"
    }
   ],
   "source": [
    "X_test.dtypes"
   ]
  },
  {
   "cell_type": "code",
   "execution_count": 20,
   "metadata": {},
   "outputs": [],
   "source": [
    "def metric_score(y_train, y_train_pred, y_test, y_pred):\n",
    "    \n",
    "     # The Root mean squared error\n",
    "    rmse_train = np.sqrt(mean_squared_error(y_train, y_train_pred))\n",
    "    print(\"Train : RMSE: %.4f\" % rmse_train)\n",
    "    \n",
    "    # Explained variance score: 1 is perfect prediction\n",
    "    r2_train = r2_score(y_train, y_train_pred)\n",
    "    print('Train : R_2 Score: %.2f' % r2_train)\n",
    "    \n",
    "    # The Root mean squared error\n",
    "    rmse_test = np.sqrt(mean_squared_error(y_test, y_pred))\n",
    "    print(\"Test : RMSE: %.4f\" % rmse_test)\n",
    "    \n",
    "    # Explained variance score: 1 is perfect prediction\n",
    "    r2_test = r2_score(y_test, y_pred)\n",
    "    print('Test : R_2 Score: %.2f' % r2_test)\n",
    "    return rmse_train, r2_train, rmse_test, r2_test"
   ]
  },
  {
   "cell_type": "markdown",
   "metadata": {},
   "source": [
    "## Linear Regression"
   ]
  },
  {
   "cell_type": "code",
   "execution_count": 21,
   "metadata": {},
   "outputs": [],
   "source": [
    "scaler=MinMaxScaler()\n",
    "X_train_scaled = scaler.fit_transform(X_train)\n",
    "X_test_scaled = scaler.transform(X_test)"
   ]
  },
  {
   "cell_type": "code",
   "execution_count": 24,
   "metadata": {},
   "outputs": [
    {
     "name": "stdout",
     "output_type": "stream",
     "text": [
      "Train : RMSE: 34849.0033\n",
      "Train : R_2 Score: 0.80\n",
      "Test : RMSE: 36802.3898\n",
      "Test : R_2 Score: 0.81\n"
     ]
    }
   ],
   "source": [
    "linear_regr = LinearRegression(normalize=False)\n",
    "\n",
    "# Train the model using the training sets\n",
    "linear_regr.fit(X_train_scaled, y_train)\n",
    "\n",
    "# Make predictions using the testing set\n",
    "y_pred = linear_regr.predict(X_test_scaled)\n",
    "y_train_pred = linear_regr.predict(X_train_scaled)\n",
    "\n",
    "rmse_train, r2_train, rmse_test, r2_test = metric_score(y_train, y_train_pred, y_test, y_pred)"
   ]
  },
  {
   "cell_type": "code",
   "execution_count": 25,
   "metadata": {},
   "outputs": [
    {
     "data": {
      "text/html": [
       "<div>\n",
       "<style scoped>\n",
       "    .dataframe tbody tr th:only-of-type {\n",
       "        vertical-align: middle;\n",
       "    }\n",
       "\n",
       "    .dataframe tbody tr th {\n",
       "        vertical-align: top;\n",
       "    }\n",
       "\n",
       "    .dataframe thead th {\n",
       "        text-align: right;\n",
       "    }\n",
       "</style>\n",
       "<table border=\"1\" class=\"dataframe\">\n",
       "  <thead>\n",
       "    <tr style=\"text-align: right;\">\n",
       "      <th></th>\n",
       "      <th>Actual</th>\n",
       "      <th>Predicted</th>\n",
       "    </tr>\n",
       "  </thead>\n",
       "  <tbody>\n",
       "    <tr>\n",
       "      <th>141</th>\n",
       "      <td>190000</td>\n",
       "      <td>196545.064204</td>\n",
       "    </tr>\n",
       "    <tr>\n",
       "      <th>142</th>\n",
       "      <td>130500</td>\n",
       "      <td>187653.842662</td>\n",
       "    </tr>\n",
       "    <tr>\n",
       "      <th>143</th>\n",
       "      <td>253293</td>\n",
       "      <td>293987.275631</td>\n",
       "    </tr>\n",
       "    <tr>\n",
       "      <th>144</th>\n",
       "      <td>219500</td>\n",
       "      <td>185000.343918</td>\n",
       "    </tr>\n",
       "    <tr>\n",
       "      <th>145</th>\n",
       "      <td>139400</td>\n",
       "      <td>158924.283119</td>\n",
       "    </tr>\n",
       "  </tbody>\n",
       "</table>\n",
       "</div>"
      ],
      "text/plain": [
       "     Actual      Predicted\n",
       "141  190000  196545.064204\n",
       "142  130500  187653.842662\n",
       "143  253293  293987.275631\n",
       "144  219500  185000.343918\n",
       "145  139400  158924.283119"
      ]
     },
     "execution_count": 25,
     "metadata": {},
     "output_type": "execute_result"
    }
   ],
   "source": [
    "df = pd.DataFrame({'Actual': y_test, 'Predicted': y_pred})\n",
    "df.tail()"
   ]
  },
  {
   "cell_type": "markdown",
   "metadata": {},
   "source": [
    "## Random Forest"
   ]
  },
  {
   "cell_type": "code",
   "execution_count": 83,
   "metadata": {},
   "outputs": [
    {
     "name": "stdout",
     "output_type": "stream",
     "text": [
      "Wall time: 9min 3s\n"
     ]
    }
   ],
   "source": [
    "%%time \n",
    "\n",
    "# Create a pipeline\n",
    "pipe = make_pipeline((RandomForestRegressor()))\n",
    "# Create dictionary with candidate learning algorithms and their hyperparameters\n",
    "grid_param = [\n",
    "                {\"randomforestregressor\": [RandomForestRegressor()],\n",
    "                 \"randomforestregressor__n_estimators\": [10, 100, 200, 500],\n",
    "                 \"randomforestregressor__max_depth\":[5,8,15,25,30,None],\n",
    "                 \"randomforestregressor__min_samples_leaf\":[1,2,5,10,15,100],\n",
    "                 \"randomforestregressor__max_leaf_nodes\": [2, 5,10]}]\n",
    "# create a gridsearch of the pipeline, the fit the best model\n",
    "gridsearch = GridSearchCV(pipe, grid_param, cv=5, verbose=0,n_jobs=-1) # Fit grid search\n",
    "best_model = gridsearch.fit(X_train,y_train)"
   ]
  },
  {
   "cell_type": "code",
   "execution_count": 86,
   "metadata": {},
   "outputs": [
    {
     "name": "stdout",
     "output_type": "stream",
     "text": [
      "RMSE: 41034.98\n",
      "R_2 Score: 0.77\n"
     ]
    }
   ],
   "source": [
    "y_pred = best_model.predict(X_test)\n",
    "y_train_pred = best_model.predict(X_train)\n",
    "\n",
    "rmse_train, r2_train, rmse_test, r2_test = metric_score(y_train, y_train_pred, y_test, y_pred)"
   ]
  },
  {
   "cell_type": "code",
   "execution_count": 90,
   "metadata": {
    "scrolled": true
   },
   "outputs": [
    {
     "data": {
      "text/html": [
       "<div>\n",
       "<style scoped>\n",
       "    .dataframe tbody tr th:only-of-type {\n",
       "        vertical-align: middle;\n",
       "    }\n",
       "\n",
       "    .dataframe tbody tr th {\n",
       "        vertical-align: top;\n",
       "    }\n",
       "\n",
       "    .dataframe thead th {\n",
       "        text-align: right;\n",
       "    }\n",
       "</style>\n",
       "<table border=\"1\" class=\"dataframe\">\n",
       "  <thead>\n",
       "    <tr style=\"text-align: right;\">\n",
       "      <th></th>\n",
       "      <th>Actual</th>\n",
       "      <th>Predicted</th>\n",
       "    </tr>\n",
       "  </thead>\n",
       "  <tbody>\n",
       "    <tr>\n",
       "      <th>141</th>\n",
       "      <td>190000</td>\n",
       "      <td>196467.581188</td>\n",
       "    </tr>\n",
       "    <tr>\n",
       "      <th>142</th>\n",
       "      <td>130500</td>\n",
       "      <td>150039.347089</td>\n",
       "    </tr>\n",
       "    <tr>\n",
       "      <th>143</th>\n",
       "      <td>253293</td>\n",
       "      <td>344693.006903</td>\n",
       "    </tr>\n",
       "    <tr>\n",
       "      <th>144</th>\n",
       "      <td>219500</td>\n",
       "      <td>193715.203105</td>\n",
       "    </tr>\n",
       "    <tr>\n",
       "      <th>145</th>\n",
       "      <td>139400</td>\n",
       "      <td>143445.900358</td>\n",
       "    </tr>\n",
       "  </tbody>\n",
       "</table>\n",
       "</div>"
      ],
      "text/plain": [
       "     Actual      Predicted\n",
       "141  190000  196467.581188\n",
       "142  130500  150039.347089\n",
       "143  253293  344693.006903\n",
       "144  219500  193715.203105\n",
       "145  139400  143445.900358"
      ]
     },
     "execution_count": 90,
     "metadata": {},
     "output_type": "execute_result"
    }
   ],
   "source": [
    "df = pd.DataFrame({'Actual': y_test, 'Predicted': y_pred})\n",
    "df.tail()"
   ]
  },
  {
   "cell_type": "markdown",
   "metadata": {},
   "source": [
    "## Grid Search Pipelines for various Regression Alogorithms"
   ]
  },
  {
   "cell_type": "code",
   "execution_count": 28,
   "metadata": {},
   "outputs": [
    {
     "name": "stdout",
     "output_type": "stream",
     "text": [
      "[20:51:58] WARNING: C:/Jenkins/workspace/xgboost-win64_release_0.90/src/objective/regression_obj.cu:152: reg:linear is now deprecated in favor of reg:squarederror.\n",
      "Wall time: 25min 42s\n"
     ]
    }
   ],
   "source": [
    "%%time\n",
    "\n",
    "# Create a pipeline\n",
    "grid_pipe = Pipeline([(\"regressor\", RandomForestRegressor())])\n",
    "# Create dictionary with candidate learning algorithms and their hyperparameters\n",
    "grid_param = [\n",
    "                {\"regressor\": [LinearRegression(normalize=True)]\n",
    "                },\n",
    "                {\"regressor\": [SVR()],\n",
    "                 \"regressor__C\":[0.001,0.1,1,10,100],\n",
    "                 \"regressor__kernel\":['linear','rbf']\n",
    "                },\n",
    "                {\"regressor\": [xgb.XGBRegressor()],\n",
    "                 \"regressor__n_estimators\": [80, 175, 350],\n",
    "                 \"regressor__learning_rate\": [0.125,0.145,0.165],\n",
    "                 \"regressor__subsample\": [0.5,0.6,0.7],\n",
    "                 \"regressor__max_depth\":[2,3,4,5,6],\n",
    "                 \"regressor__min_child_weight\": [3,4],\n",
    "                 \"regressor__colsample_bytree\": [0.5,0.7,0.9]\n",
    "                 },\n",
    "                {\"regressor\": [RandomForestRegressor()],\n",
    "                 \"regressor__n_estimators\": [100,300,500],\n",
    "                 \"regressor__max_depth\":[5,8,15,25,None],\n",
    "                 \"regressor__min_samples_leaf\":[1,2,5,10,15,100],\n",
    "                 \"regressor__max_leaf_nodes\": [2,5,10]}\n",
    "                 ]\n",
    "# create a gridsearch of the pipeline, the fit the best model\n",
    "gridsearch = GridSearchCV(grid_pipe, grid_param, cv=5, verbose=0,n_jobs=-1) # Fit grid search\n",
    "grid_best_model = gridsearch.fit(X_train,y_train)"
   ]
  },
  {
   "cell_type": "code",
   "execution_count": 29,
   "metadata": {},
   "outputs": [
    {
     "name": "stdout",
     "output_type": "stream",
     "text": [
      "Pipeline(memory=None,\n",
      "         steps=[('regressor',\n",
      "                 XGBRegressor(base_score=0.5, booster='gbtree',\n",
      "                              colsample_bylevel=1, colsample_bynode=1,\n",
      "                              colsample_bytree=0.7, gamma=0,\n",
      "                              importance_type='gain', learning_rate=0.125,\n",
      "                              max_delta_step=0, max_depth=6, min_child_weight=3,\n",
      "                              missing=None, n_estimators=80, n_jobs=1,\n",
      "                              nthread=None, objective='reg:linear',\n",
      "                              random_state=0, reg_alpha=0, reg_lambda=1,\n",
      "                              scale_pos_weight=1, seed=None, silent=None,\n",
      "                              subsample=0.6, verbosity=1))],\n",
      "         verbose=False)\n",
      "==============================================\n",
      "Train : RMSE: 12535.0840\n",
      "Train : R_2 Score: 0.97\n",
      "Test : RMSE: 31631.9871\n",
      "Test : R_2 Score: 0.86\n"
     ]
    }
   ],
   "source": [
    "print(grid_best_model.best_estimator_)\n",
    "print(\"==============================================\")\n",
    "y_train_pred_grid = grid_best_model.predict(X_train)\n",
    "y_pred_grid = grid_best_model.predict(X_test)\n",
    "rmse_train_grid, r2_train_grid, rmse_test_grid, r2_test_grid = metric_score(y_train, y_train_pred_grid, y_test, y_pred_grid)"
   ]
  },
  {
   "cell_type": "code",
   "execution_count": 67,
   "metadata": {},
   "outputs": [],
   "source": [
    "data=X_train.copy()\n",
    "data_test = X_test.copy()"
   ]
  },
  {
   "cell_type": "code",
   "execution_count": 68,
   "metadata": {},
   "outputs": [],
   "source": [
    "data.TotalSF = data.TotalSF.astype('int64')\n",
    "data['1stFlrSF'] = data['1stFlrSF'].astype('int64')\n",
    "data.GrLivArea = data.GrLivArea.astype('int64')\n",
    "data.LotArea = data.LotArea.astype('int64')\n",
    "\n",
    "data_test.TotalSF = data_test.TotalSF.astype('int64')\n",
    "data_test['1stFlrSF'] = data_test['1stFlrSF'].astype('int64')\n",
    "data_test.GrLivArea = data_test.GrLivArea.astype('int64')\n",
    "data_test.LotArea = data_test.LotArea.astype('int64')"
   ]
  },
  {
   "cell_type": "code",
   "execution_count": 78,
   "metadata": {},
   "outputs": [
    {
     "data": {
      "text/plain": [
       "0    175000\n",
       "1    149000\n",
       "2    235000\n",
       "3     55000\n",
       "4    155000\n",
       "Name: SalePrice, dtype: int64"
      ]
     },
     "execution_count": 78,
     "metadata": {},
     "output_type": "execute_result"
    }
   ],
   "source": [
    "y_test.head()"
   ]
  },
  {
   "cell_type": "code",
   "execution_count": 99,
   "metadata": {},
   "outputs": [
    {
     "data": {
      "text/html": [
       "<div>\n",
       "<style scoped>\n",
       "    .dataframe tbody tr th:only-of-type {\n",
       "        vertical-align: middle;\n",
       "    }\n",
       "\n",
       "    .dataframe tbody tr th {\n",
       "        vertical-align: top;\n",
       "    }\n",
       "\n",
       "    .dataframe thead th {\n",
       "        text-align: right;\n",
       "    }\n",
       "</style>\n",
       "<table border=\"1\" class=\"dataframe\">\n",
       "  <thead>\n",
       "    <tr style=\"text-align: right;\">\n",
       "      <th></th>\n",
       "      <th>TotalSF</th>\n",
       "      <th>TotalBsmtSF</th>\n",
       "      <th>OverallQual</th>\n",
       "      <th>GarageCars</th>\n",
       "      <th>BsmtFinSF1</th>\n",
       "      <th>1stFlrSF</th>\n",
       "      <th>YearRemodAdd</th>\n",
       "      <th>LotArea</th>\n",
       "      <th>KitchenQual</th>\n",
       "      <th>GrLivArea</th>\n",
       "      <th>GarageFinish</th>\n",
       "      <th>GarageArea</th>\n",
       "      <th>FullBath</th>\n",
       "      <th>ExterQual</th>\n",
       "      <th>BsmtQual</th>\n",
       "      <th>2ndFlrSF</th>\n",
       "    </tr>\n",
       "  </thead>\n",
       "  <tbody>\n",
       "    <tr>\n",
       "      <th>0</th>\n",
       "      <td>1491</td>\n",
       "      <td>1484</td>\n",
       "      <td>5</td>\n",
       "      <td>2</td>\n",
       "      <td>998</td>\n",
       "      <td>7</td>\n",
       "      <td>1971</td>\n",
       "      <td>9</td>\n",
       "      <td>5</td>\n",
       "      <td>7</td>\n",
       "      <td>3</td>\n",
       "      <td>487</td>\n",
       "      <td>2</td>\n",
       "      <td>5</td>\n",
       "      <td>6</td>\n",
       "      <td>0</td>\n",
       "    </tr>\n",
       "    <tr>\n",
       "      <th>1</th>\n",
       "      <td>1582</td>\n",
       "      <td>1042</td>\n",
       "      <td>5</td>\n",
       "      <td>1</td>\n",
       "      <td>0</td>\n",
       "      <td>6</td>\n",
       "      <td>1950</td>\n",
       "      <td>8</td>\n",
       "      <td>5</td>\n",
       "      <td>7</td>\n",
       "      <td>3</td>\n",
       "      <td>225</td>\n",
       "      <td>1</td>\n",
       "      <td>5</td>\n",
       "      <td>5</td>\n",
       "      <td>534</td>\n",
       "    </tr>\n",
       "    <tr>\n",
       "      <th>2</th>\n",
       "      <td>1597</td>\n",
       "      <td>795</td>\n",
       "      <td>7</td>\n",
       "      <td>2</td>\n",
       "      <td>795</td>\n",
       "      <td>7</td>\n",
       "      <td>1994</td>\n",
       "      <td>9</td>\n",
       "      <td>6</td>\n",
       "      <td>7</td>\n",
       "      <td>5</td>\n",
       "      <td>539</td>\n",
       "      <td>2</td>\n",
       "      <td>5</td>\n",
       "      <td>5</td>\n",
       "      <td>795</td>\n",
       "    </tr>\n",
       "    <tr>\n",
       "      <th>3</th>\n",
       "      <td>725</td>\n",
       "      <td>0</td>\n",
       "      <td>4</td>\n",
       "      <td>0</td>\n",
       "      <td>0</td>\n",
       "      <td>5</td>\n",
       "      <td>1950</td>\n",
       "      <td>8</td>\n",
       "      <td>4</td>\n",
       "      <td>6</td>\n",
       "      <td>0</td>\n",
       "      <td>0</td>\n",
       "      <td>2</td>\n",
       "      <td>1</td>\n",
       "      <td>0</td>\n",
       "      <td>720</td>\n",
       "    </tr>\n",
       "    <tr>\n",
       "      <th>4</th>\n",
       "      <td>1554</td>\n",
       "      <td>804</td>\n",
       "      <td>6</td>\n",
       "      <td>2</td>\n",
       "      <td>556</td>\n",
       "      <td>6</td>\n",
       "      <td>1976</td>\n",
       "      <td>7</td>\n",
       "      <td>6</td>\n",
       "      <td>7</td>\n",
       "      <td>3</td>\n",
       "      <td>440</td>\n",
       "      <td>2</td>\n",
       "      <td>5</td>\n",
       "      <td>6</td>\n",
       "      <td>744</td>\n",
       "    </tr>\n",
       "  </tbody>\n",
       "</table>\n",
       "</div>"
      ],
      "text/plain": [
       "   TotalSF  TotalBsmtSF  OverallQual  GarageCars  BsmtFinSF1  1stFlrSF  \\\n",
       "0     1491         1484            5           2         998         7   \n",
       "1     1582         1042            5           1           0         6   \n",
       "2     1597          795            7           2         795         7   \n",
       "3      725            0            4           0           0         5   \n",
       "4     1554          804            6           2         556         6   \n",
       "\n",
       "   YearRemodAdd  LotArea  KitchenQual  GrLivArea  GarageFinish  GarageArea  \\\n",
       "0          1971        9            5          7             3         487   \n",
       "1          1950        8            5          7             3         225   \n",
       "2          1994        9            6          7             5         539   \n",
       "3          1950        8            4          6             0           0   \n",
       "4          1976        7            6          7             3         440   \n",
       "\n",
       "   FullBath  ExterQual  BsmtQual  2ndFlrSF  \n",
       "0         2          5         6         0  \n",
       "1         1          5         5       534  \n",
       "2         2          5         5       795  \n",
       "3         2          1         0       720  \n",
       "4         2          5         6       744  "
      ]
     },
     "execution_count": 99,
     "metadata": {},
     "output_type": "execute_result"
    }
   ],
   "source": [
    "data_test.head(5)"
   ]
  },
  {
   "cell_type": "code",
   "execution_count": 79,
   "metadata": {},
   "outputs": [
    {
     "name": "stdout",
     "output_type": "stream",
     "text": [
      "[17:02:59] WARNING: C:/Jenkins/workspace/xgboost-win64_release_0.90/src/objective/regression_obj.cu:152: reg:linear is now deprecated in favor of reg:squarederror.\n",
      "Train : RMSE: 12535.0840\n",
      "Train : R_2 Score: 0.97\n",
      "Test : RMSE: 31631.9871\n",
      "Test : R_2 Score: 0.86\n"
     ]
    }
   ],
   "source": [
    "xg_reg = xgb.XGBRegressor(colsample_bytree=0.7,learning_rate=0.125,max_depth=6, min_child_weight=3,\n",
    "                               n_estimators=80, n_jobs=1,subsample=0.6)\n",
    "\n",
    "xgb_best_model = xg_reg.fit(X_train.values,y_train.values)\n",
    "\n",
    "y_train_pred_xgb = xgb_best_model.predict(X_train.values)\n",
    "y_pred_xgb = xgb_best_model.predict(X_test.values)\n",
    "\n",
    "rmse_train_grid, r2_train_grid, rmse_test_grid, r2_test_grid = metric_score(y_train, y_train_pred_xgb, y_test, y_pred_xgb)"
   ]
  },
  {
   "cell_type": "code",
   "execution_count": 97,
   "metadata": {},
   "outputs": [
    {
     "data": {
      "text/plain": [
       "TotalSF         1491.302496\n",
       "TotalBsmtSF     1484.000000\n",
       "OverallQual        5.000000\n",
       "GarageCars         2.000000\n",
       "BsmtFinSF1       998.000000\n",
       "1stFlrSF           7.302496\n",
       "YearRemodAdd    1971.000000\n",
       "LotArea            9.412710\n",
       "KitchenQual        5.000000\n",
       "GrLivArea          7.302496\n",
       "GarageFinish       3.000000\n",
       "GarageArea       487.000000\n",
       "FullBath           2.000000\n",
       "ExterQual          5.000000\n",
       "BsmtQual           6.000000\n",
       "2ndFlrSF           0.000000\n",
       "Name: 0, dtype: float64"
      ]
     },
     "execution_count": 97,
     "metadata": {},
     "output_type": "execute_result"
    }
   ],
   "source": [
    "X_test.loc[0]"
   ]
  },
  {
   "cell_type": "code",
   "execution_count": 95,
   "metadata": {},
   "outputs": [
    {
     "data": {
      "text/plain": [
       "array([169217.16], dtype=float32)"
      ]
     },
     "execution_count": 95,
     "metadata": {},
     "output_type": "execute_result"
    }
   ],
   "source": [
    "data_1 = [1491.302496,1484.000000,5.000000,2.000000, 998.000000,7,1971.000000,9.412710,5.000000,7.302496,3.000000,487.000000,2.000000,5.000000,6.000000,0.000000]\n",
    "xgb_best_model.predict([np.array(data_1)])"
   ]
  },
  {
   "cell_type": "code",
   "execution_count": 89,
   "metadata": {},
   "outputs": [
    {
     "data": {
      "text/html": [
       "<div>\n",
       "<style scoped>\n",
       "    .dataframe tbody tr th:only-of-type {\n",
       "        vertical-align: middle;\n",
       "    }\n",
       "\n",
       "    .dataframe tbody tr th {\n",
       "        vertical-align: top;\n",
       "    }\n",
       "\n",
       "    .dataframe thead th {\n",
       "        text-align: right;\n",
       "    }\n",
       "</style>\n",
       "<table border=\"1\" class=\"dataframe\">\n",
       "  <thead>\n",
       "    <tr style=\"text-align: right;\">\n",
       "      <th></th>\n",
       "      <th>Actual</th>\n",
       "      <th>Predicted</th>\n",
       "    </tr>\n",
       "  </thead>\n",
       "  <tbody>\n",
       "    <tr>\n",
       "      <th>0</th>\n",
       "      <td>175000</td>\n",
       "      <td>164974.921875</td>\n",
       "    </tr>\n",
       "    <tr>\n",
       "      <th>1</th>\n",
       "      <td>149000</td>\n",
       "      <td>124751.359375</td>\n",
       "    </tr>\n",
       "    <tr>\n",
       "      <th>2</th>\n",
       "      <td>235000</td>\n",
       "      <td>224504.015625</td>\n",
       "    </tr>\n",
       "    <tr>\n",
       "      <th>3</th>\n",
       "      <td>55000</td>\n",
       "      <td>56766.656250</td>\n",
       "    </tr>\n",
       "    <tr>\n",
       "      <th>4</th>\n",
       "      <td>155000</td>\n",
       "      <td>172302.906250</td>\n",
       "    </tr>\n",
       "  </tbody>\n",
       "</table>\n",
       "</div>"
      ],
      "text/plain": [
       "   Actual      Predicted\n",
       "0  175000  164974.921875\n",
       "1  149000  124751.359375\n",
       "2  235000  224504.015625\n",
       "3   55000   56766.656250\n",
       "4  155000  172302.906250"
      ]
     },
     "execution_count": 89,
     "metadata": {},
     "output_type": "execute_result"
    }
   ],
   "source": [
    "df = pd.DataFrame({'Actual': y_test, 'Predicted': y_pred_xgb})\n",
    "df.head()"
   ]
  },
  {
   "cell_type": "code",
   "execution_count": 81,
   "metadata": {},
   "outputs": [],
   "source": [
    "filename = 'xgb_model.pkl'\n",
    "pickle.dump(xgb_best_model, open(\"./Storage/\"+filename, 'wb'))"
   ]
  },
  {
   "cell_type": "code",
   "execution_count": 31,
   "metadata": {},
   "outputs": [],
   "source": [
    "# save the model to disk\n",
    "#filename = 'finalized_grid_model_1.sav'\n",
    "#pickle.dump(grid_best_model, open(\"./Storage/\"+filename, 'wb'))\n",
    " \n",
    "# some time later...\n",
    " \n",
    "# load the model from disk\n",
    "#grid_best_model = pickle.load(open(\"./Storage/\"+filename, 'rb'))\n",
    "#y_pred_grid = grid_best_model.predict(X_test)"
   ]
  },
  {
   "cell_type": "markdown",
   "metadata": {},
   "source": [
    "## Random Search Pipelines for various Regression Algorithms"
   ]
  },
  {
   "cell_type": "code",
   "execution_count": 33,
   "metadata": {},
   "outputs": [
    {
     "name": "stdout",
     "output_type": "stream",
     "text": [
      "[21:19:50] WARNING: C:/Jenkins/workspace/xgboost-win64_release_0.90/src/objective/regression_obj.cu:152: reg:linear is now deprecated in favor of reg:squarederror.\n",
      "Wall time: 55.8 s\n"
     ]
    }
   ],
   "source": [
    "%%time\n",
    "\n",
    "# Create a pipeline\n",
    "pipe = Pipeline([(\"regressor\", RandomForestRegressor())])\n",
    "# Create dictionary with candidate learning algorithms and their hyperparameters\n",
    "params = [\n",
    "                {\"regressor\": [LinearRegression(normalize=True)]\n",
    "                },\n",
    "                {\"regressor\": [SVR()],\n",
    "                 \"regressor__C\":[0.001,0.1,1,10,100],\n",
    "                 \"regressor__kernel\":['linear','rbf']\n",
    "                },\n",
    "                {\"regressor\": [xgb.XGBRegressor()],\n",
    "                 \"regressor__n_estimators\": [80, 175, 350,500,750,1000],\n",
    "                 \"regressor__learning_rate\": [0.125,0.135,0.165,0.135],\n",
    "                 \"regressor__subsample\": [0.4,0.5,0.6,0.7],\n",
    "                 \"regressor__max_depth\":[2,3,4,5,6,7,8],\n",
    "                 \"regressor__min_child_weight\": [2,3,4,5],\n",
    "                 \"regressor__colsample_bytree\": [0.5,0.7,0.8,0.9]\n",
    "                 },\n",
    "                {\"regressor\": [RandomForestRegressor()],\n",
    "                 \"regressor__n_estimators\": [100,300,500],\n",
    "                 \"regressor__max_depth\":[5,8,15,25,None],\n",
    "                 \"regressor__min_samples_leaf\":[1,2,5,10,15,100],\n",
    "                 \"regressor__max_leaf_nodes\": [2,5,10]}\n",
    "                 ]\n",
    "# create a gridsearch of the pipeline, the fit the best model\n",
    "rdmsearch = RandomizedSearchCV(pipe, params, cv=10, verbose=0,n_jobs=-1) # Fit grid search\n",
    "best_model = rdmsearch.fit(X_train,y_train)"
   ]
  },
  {
   "cell_type": "code",
   "execution_count": 34,
   "metadata": {},
   "outputs": [
    {
     "name": "stdout",
     "output_type": "stream",
     "text": [
      "Pipeline(memory=None,\n",
      "         steps=[('regressor',\n",
      "                 XGBRegressor(base_score=0.5, booster='gbtree',\n",
      "                              colsample_bylevel=1, colsample_bynode=1,\n",
      "                              colsample_bytree=0.8, gamma=0,\n",
      "                              importance_type='gain', learning_rate=0.125,\n",
      "                              max_delta_step=0, max_depth=2, min_child_weight=2,\n",
      "                              missing=None, n_estimators=175, n_jobs=1,\n",
      "                              nthread=None, objective='reg:linear',\n",
      "                              random_state=0, reg_alpha=0, reg_lambda=1,\n",
      "                              scale_pos_weight=1, seed=None, silent=None,\n",
      "                              subsample=0.7, verbosity=1))],\n",
      "         verbose=False)\n",
      "==============================================\n",
      "Train : RMSE: 34849.0033\n",
      "Train : R_2 Score: 0.80\n",
      "Test : RMSE: 33152.8522\n",
      "Test : R_2 Score: 0.85\n"
     ]
    }
   ],
   "source": [
    "print(best_model.best_estimator_)\n",
    "print(\"==============================================\")\n",
    "y_pred_train= best_model.predict(X_train)\n",
    "y_pred = best_model.predict(X_test)\n",
    "rmse_train, r2_train, rmse_test, r2_test = metric_score(y_train, y_train_pred, y_test, y_pred)"
   ]
  },
  {
   "cell_type": "code",
   "execution_count": 111,
   "metadata": {
    "scrolled": true
   },
   "outputs": [
    {
     "data": {
      "text/html": [
       "<div>\n",
       "<style scoped>\n",
       "    .dataframe tbody tr th:only-of-type {\n",
       "        vertical-align: middle;\n",
       "    }\n",
       "\n",
       "    .dataframe tbody tr th {\n",
       "        vertical-align: top;\n",
       "    }\n",
       "\n",
       "    .dataframe thead th {\n",
       "        text-align: right;\n",
       "    }\n",
       "</style>\n",
       "<table border=\"1\" class=\"dataframe\">\n",
       "  <thead>\n",
       "    <tr style=\"text-align: right;\">\n",
       "      <th></th>\n",
       "      <th>Actual</th>\n",
       "      <th>Predicted</th>\n",
       "    </tr>\n",
       "  </thead>\n",
       "  <tbody>\n",
       "    <tr>\n",
       "      <th>0</th>\n",
       "      <td>175000</td>\n",
       "      <td>186466.671875</td>\n",
       "    </tr>\n",
       "    <tr>\n",
       "      <th>1</th>\n",
       "      <td>149000</td>\n",
       "      <td>130902.281250</td>\n",
       "    </tr>\n",
       "    <tr>\n",
       "      <th>2</th>\n",
       "      <td>235000</td>\n",
       "      <td>229039.625000</td>\n",
       "    </tr>\n",
       "    <tr>\n",
       "      <th>3</th>\n",
       "      <td>55000</td>\n",
       "      <td>52140.906250</td>\n",
       "    </tr>\n",
       "    <tr>\n",
       "      <th>4</th>\n",
       "      <td>155000</td>\n",
       "      <td>159590.406250</td>\n",
       "    </tr>\n",
       "  </tbody>\n",
       "</table>\n",
       "</div>"
      ],
      "text/plain": [
       "   Actual      Predicted\n",
       "0  175000  186466.671875\n",
       "1  149000  130902.281250\n",
       "2  235000  229039.625000\n",
       "3   55000   52140.906250\n",
       "4  155000  159590.406250"
      ]
     },
     "execution_count": 111,
     "metadata": {},
     "output_type": "execute_result"
    }
   ],
   "source": [
    "df = pd.DataFrame({'Actual': y_test, 'Predicted': y_pred})\n",
    "df.head()"
   ]
  },
  {
   "cell_type": "code",
   "execution_count": 118,
   "metadata": {},
   "outputs": [],
   "source": [
    "# save the model to disk\n",
    "filename = 'finalized_random_model.sav'\n",
    "pickle.dump(best_model, open(\"./Storage/\"+filename, 'wb'))"
   ]
  },
  {
   "cell_type": "code",
   "execution_count": 120,
   "metadata": {},
   "outputs": [],
   "source": [
    "# load the model from disk\n",
    "# loaded_model = pickle.load(open(\"./Storage/\"+filename, 'rb'))\n",
    "# result = loaded_model.predict(X_test)\n",
    "# rmse_r, r2_r = metric_score(y_test, result)"
   ]
  },
  {
   "cell_type": "code",
   "execution_count": null,
   "metadata": {},
   "outputs": [],
   "source": []
  }
 ],
 "metadata": {
  "kernelspec": {
   "display_name": "Python 3",
   "language": "python",
   "name": "python3"
  },
  "language_info": {
   "codemirror_mode": {
    "name": "ipython",
    "version": 3
   },
   "file_extension": ".py",
   "mimetype": "text/x-python",
   "name": "python",
   "nbconvert_exporter": "python",
   "pygments_lexer": "ipython3",
   "version": "3.7.3"
  }
 },
 "nbformat": 4,
 "nbformat_minor": 2
}
